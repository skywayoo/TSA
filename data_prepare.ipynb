{
 "cells": [
  {
   "cell_type": "code",
   "execution_count": 1,
   "metadata": {
    "collapsed": true
   },
   "outputs": [],
   "source": [
    "%matplotlib inline\n",
    "import numpy as np"
   ]
  },
  {
   "cell_type": "code",
   "execution_count": 2,
   "metadata": {},
   "outputs": [],
   "source": [
    "sensor_num = 17\n",
    "train = [open(\"C:/Users/skywayoo/FDC/benchmark/data/sensor_cv/train_1/cv_1_train_%d.txt\" % i) for i in range(1, sensor_num+1)]\n",
    "test = [open(\"C:/Users/skywayoo/FDC/benchmark/data/sensor_cv/test_1/cv_1_test_%d.txt\" % i) for i in range(1, sensor_num+1)]"
   ]
  },
  {
   "cell_type": "code",
   "execution_count": 3,
   "metadata": {},
   "outputs": [
    {
     "name": "stdout",
     "output_type": "stream",
     "text": [
      "('train dim=', (17L, 150L))\n",
      "('test dim=', (17L, 39L))\n"
     ]
    }
   ],
   "source": [
    "def read_Data(txt):\n",
    "    data = txt.readlines()\n",
    "    data = [i.split('\\n', 1)[0] for i in data]\n",
    "    readlines = []\n",
    "    for i in range(0,len(data)):\n",
    "        readlines.append(data[i].split())\n",
    "    return np.array(readlines)\n",
    "train_sensors = []\n",
    "test_sensors = []\n",
    "for i in range(0,sensor_num):\n",
    "    train_sensors.append(read_Data(train[i]))\n",
    "    test_sensors.append(read_Data(test[i]))\n",
    "    \n",
    "#sensor_val[sensor_num][wafer_num]\n",
    "train_length = np.array(train_sensors).shape[1]\n",
    "test_length =  np.array(test_sensors).shape[1]\n",
    "print(\"train dim=\",np.array(train_sensors).shape)\n",
    "print(\"test dim=\",np.array(test_sensors).shape)"
   ]
  },
  {
   "cell_type": "code",
   "execution_count": 5,
   "metadata": {},
   "outputs": [
    {
     "name": "stdout",
     "output_type": "stream",
     "text": [
      "('train.y=', array(['1', '1', '1', '1', '1', '1', '1', '1', '1', '1', '1', '1', '1',\n",
      "       '1', '1', '1', '1', '1', '1', '1', '1', '1', '1', '1', '1', '1',\n",
      "       '1', '1', '1', '1', '1', '1', '1', '1', '1', '1', '1', '1', '1',\n",
      "       '1', '1', '1', '1', '1', '1', '1', '1', '1', '1', '1', '1', '1',\n",
      "       '1', '1', '1', '1', '1', '1', '1', '1', '1', '1', '1', '1', '1',\n",
      "       '1', '1', '1', '1', '1', '1', '1', '1', '1', '1', '1', '1', '1',\n",
      "       '1', '1', '1', '1', '1', '1', '1', '1', '1', '1', '1', '1', '1',\n",
      "       '1', '1', '1', '1', '1', '1', '1', '1', '1', '1', '1', '1', '1',\n",
      "       '1', '1', '1', '1', '1', '1', '1', '1', '1', '1', '1', '1', '1',\n",
      "       '1', '0', '0', '0', '0', '0', '0', '0', '0', '0', '0', '0', '0',\n",
      "       '0', '0', '0', '0', '0', '0', '0', '0', '0', '0', '0', '0', '0',\n",
      "       '0', '0', '0', '0', '0', '0', '0'],\n",
      "      dtype='|S1'), 'length=', (150L,))\n",
      "('test.y=', array(['1', '1', '1', '1', '1', '1', '1', '1', '1', '1', '1', '1', '1',\n",
      "       '1', '1', '1', '1', '1', '1', '1', '1', '1', '1', '1', '1', '1',\n",
      "       '1', '1', '1', '1', '0', '0', '0', '0', '0', '0', '0', '0', '0'],\n",
      "      dtype='|S1'), 'length=', (39L,))\n"
     ]
    }
   ],
   "source": [
    "def rstr(data):\n",
    "    lenval = []\n",
    "    print('sensor count = ',len(data))\n",
    "    for i in range(0,len(data)):\n",
    "        lenval.append(len(data[i]))\n",
    "    print('MAX=',max(lenval))\n",
    "    print('MIN=',min(lenval))\n",
    "    return [np.array(lenval),min(lenval)]\n",
    "\n",
    "def sensor_label(data):\n",
    "    label = []\n",
    "    for i in range(0,len(data[0])):\n",
    "        label.append(data[0][i][0])\n",
    "    return np.array(label)\n",
    "\n",
    "train_label = sensor_label(train_sensors)\n",
    "test_label = sensor_label(test_sensors)\n",
    "\n",
    "print(\"train.y=\",train_label,\"length=\",train_label.shape)\n",
    "print(\"test.y=\",test_label,\"length=\",test_label.shape)"
   ]
  },
  {
   "cell_type": "code",
   "execution_count": 6,
   "metadata": {},
   "outputs": [
    {
     "name": "stdout",
     "output_type": "stream",
     "text": [
      "['-1.1' '-1.1' '-1.1' '-1.1' '-1.1' '-1.1'\n",
      " '-1.1' '-1.1' '-1.1' '-1.1' '-1.1' '-1.1'\n",
      " '-1.1' '-1.1' '-1.1' '-1.1' '-1.1' '-1.1'\n",
      " '-1.1' '-1.1']\n",
      "['-1.1' '-1.1' '-1.1' '-1.1' '-1.1' '-1.1'\n",
      " '-1.1' '-1.1' '-1.1' '-1.1' '-1.1' '-1.1'\n",
      " '-1.1' '-1.1' '-1.1' '-1.1' '-1.1' '-1.1'\n",
      " '-1.1' '-1.1']\n"
     ]
    }
   ],
   "source": [
    "def sensor_value(data):\n",
    "    for s in range(0,len(data)):\n",
    "        for i in range(0,len(data[s])):\n",
    "            data[s][i].pop(0)\n",
    "    return data\n",
    "                       \n",
    "train_sensor_val = sensor_value(train_sensors)\n",
    "test_sensor_val = sensor_value(test_sensors)\n",
    "\n",
    "print(np.array(train_sensor_val[0][0][0:20]))\n",
    "print(np.array(test_sensor_val[0][0][0:20]))"
   ]
  },
  {
   "cell_type": "code",
   "execution_count": 7,
   "metadata": {},
   "outputs": [
    {
     "data": {
      "text/plain": [
       "array([ True,  True,  True,  True,  True,  True,  True,  True,  True,\n",
       "        True,  True,  True,  True,  True,  True,  True,  True,  True,\n",
       "        True,  True], dtype=bool)"
      ]
     },
     "execution_count": 7,
     "metadata": {},
     "output_type": "execute_result"
    }
   ],
   "source": [
    "np.array(test_sensors[0][0])[0:20] == np.array(test_sensor_val[0][0][0:20])"
   ]
  },
  {
   "cell_type": "code",
   "execution_count": 8,
   "metadata": {},
   "outputs": [
    {
     "name": "stdout",
     "output_type": "stream",
     "text": [
      "('sensor count = ', 150)\n",
      "('MAX=', 212)\n",
      "('MIN=', 149)\n",
      "('sensor count = ', 39)\n",
      "('MAX=', 212)\n",
      "('MIN=', 198)\n"
     ]
    }
   ],
   "source": [
    "min_len = min(rstr(train_sensor_val[0])[1],rstr(test_sensor_val[0])[1])"
   ]
  },
  {
   "cell_type": "code",
   "execution_count": 9,
   "metadata": {},
   "outputs": [
    {
     "data": {
      "text/plain": [
       "array([56, 56, 58, 55, 55, 58, 51, 56, 57, 55, 55, 56, 54, 50, 56, 56, 57,\n",
       "       58, 56, 56, 56, 54, 57, 57, 56, 55, 55, 52, 55, 57, 56, 55, 55, 55,\n",
       "       55, 56, 57, 56, 57, 51, 54, 51, 55, 58, 56, 51, 57, 63, 61, 62, 63,\n",
       "       62, 63, 62, 62, 63, 64, 56, 55, 62, 63, 63, 56, 62, 62, 57, 56, 55,\n",
       "       58, 55, 55, 55, 57,  1, 55, 50, 56, 56, 58, 56, 57, 56, 56, 57, 56,\n",
       "       56, 51, 56, 57, 57, 56, 56, 56, 57, 58, 55, 54, 56, 56, 51, 55, 55,\n",
       "       56, 50, 51, 56, 55, 57, 56, 56, 55, 52, 55, 51, 57, 51, 57, 51, 56,\n",
       "       56, 55, 56, 55, 57, 55, 56, 51, 56, 57, 57, 56, 57, 56, 55, 56, 56,\n",
       "       57, 56, 56, 55, 55, 55, 57, 55, 56, 56, 56, 55, 55, 55])"
      ]
     },
     "execution_count": 9,
     "metadata": {},
     "output_type": "execute_result"
    }
   ],
   "source": [
    "def sliding_win(ts,w_size):\n",
    "    window = []\n",
    "    for i in range(0,len(ts)-w_size+1):\n",
    "        window_v = ts[i:i+w_size]\n",
    "        window.append(window_v)\n",
    "    return window\n",
    "\n",
    "def each_len(data,win_size):\n",
    "    sliding_len = []\n",
    "    for i in range(0,len(data[0])):\n",
    "        sliding_len.append(len(sliding_win(data[0][i],win_size)))\n",
    "    return np.array(sliding_len)\n",
    "\n",
    "#slide each length\n",
    "each_len(train_sensor_val,min_len)"
   ]
  },
  {
   "cell_type": "code",
   "execution_count": 10,
   "metadata": {},
   "outputs": [
    {
     "data": {
      "text/plain": [
       "array([114, 115, 116, 117, 118, 119, 120, 121, 122, 123, 124, 125, 126,\n",
       "       127, 128, 129, 130, 131, 132, 133, 134, 135, 136, 137, 138, 139,\n",
       "       140, 141, 142, 143, 144, 145, 146, 147, 148, 149, 150, 151, 152,\n",
       "       153, 154, 155, 156, 157, 158, 159, 160, 161, 162, 163, 164, 165,\n",
       "       166, 167, 168, 169, 170, 171, 172])"
      ]
     },
     "execution_count": 10,
     "metadata": {},
     "output_type": "execute_result"
    }
   ],
   "source": [
    "def wafer_idx(sensor,num_wafer,win_size):\n",
    "    total = sum(each_len(sensor,win_size))\n",
    "    val = each_len(sensor,win_size)\n",
    "    idx = np.array(range(sum(val[0:num_wafer-1]),sum(val[0:num_wafer-1],val[num_wafer-1])))\n",
    "    return idx\n",
    "\n",
    "#each wafer after slide \"index\"!!! for predict label\n",
    "wafer_idx(train_sensor_val,3,min_len-1)"
   ]
  },
  {
   "cell_type": "code",
   "execution_count": 11,
   "metadata": {
    "collapsed": true
   },
   "outputs": [],
   "source": [
    "sensor_trainX = [sliding_win(train_sensor_val[0][i],min_len) for i in range(0,train_length)]\n",
    "sensor_testX = [sliding_win(test_sensor_val[0][i],min_len) for i in range(0,test_length)]"
   ]
  },
  {
   "cell_type": "code",
   "execution_count": 12,
   "metadata": {},
   "outputs": [
    {
     "name": "stdout",
     "output_type": "stream",
     "text": [
      "('train=', 150)\n",
      "('test=', 39)\n"
     ]
    }
   ],
   "source": [
    "print(\"train=\",len(sensor_trainX))\n",
    "print(\"test=\",len(sensor_testX))"
   ]
  },
  {
   "cell_type": "code",
   "execution_count": 13,
   "metadata": {
    "collapsed": true
   },
   "outputs": [],
   "source": [
    "def unlist(df):\n",
    "    unlist_val = []\n",
    "    for i in range(0,len(df)):\n",
    "        for s in range(0,len(df[i])):\n",
    "            unlist_val.append(df[i][s])\n",
    "    return unlist_val\n",
    "\n",
    "def sensor_X(sensor,sensor_num,win_size):\n",
    "    sensor_num=sensor_num-1\n",
    "    sensor_dat = [sliding_win(sensor[sensor_num][i],win_size) for i in range(0, len(sensor[sensor_num]))]\n",
    "    sensor_dat = np.asarray(unlist(sensor_dat))\n",
    "    sensor_dat.reshape(sum(each_len(sensor,win_size)),win_size)\n",
    "    return sensor_dat"
   ]
  },
  {
   "cell_type": "code",
   "execution_count": 14,
   "metadata": {},
   "outputs": [
    {
     "name": "stdout",
     "output_type": "stream",
     "text": [
      "('train:', (8356L, 149L))\n",
      "('test:', (2179L, 149L))\n"
     ]
    }
   ],
   "source": [
    "print(\"train:\",np.shape(sensor_X(train_sensor_val,1,min_len)))\n",
    "print(\"test:\",np.shape(sensor_X(test_sensor_val,1,min_len)))"
   ]
  },
  {
   "cell_type": "code",
   "execution_count": 15,
   "metadata": {},
   "outputs": [
    {
     "data": {
      "text/plain": [
       "149"
      ]
     },
     "execution_count": 15,
     "metadata": {},
     "output_type": "execute_result"
    }
   ],
   "source": [
    "min_len"
   ]
  },
  {
   "cell_type": "code",
   "execution_count": 16,
   "metadata": {
    "collapsed": true
   },
   "outputs": [],
   "source": [
    "train_x = []\n",
    "test_x = []\n",
    "for i in range(0,17):\n",
    "    train_x.append(sensor_X(train_sensor_val,i+1,min_len))\n",
    "    test_x.append(sensor_X(test_sensor_val,i+1,min_len))\n",
    "    #change type\n",
    "    train_x[i] = train_x[i].astype(np.float32)\n",
    "    test_x[i] = test_x[i].astype(np.float32)\n",
    "    train_x[i] = train_x[i].reshape(np.shape(sensor_X(train_sensor_val,1,min_len))[0],min_len,1)\n",
    "    test_x[i] = test_x[i].reshape(np.shape(sensor_X(test_sensor_val,1,min_len))[0],min_len,1)\n",
    "\n",
    "#train\n",
    "#train_x\n",
    "#[num_sensor][num_sensor_value(windows)][timeseries_min_value]"
   ]
  },
  {
   "cell_type": "code",
   "execution_count": 17,
   "metadata": {},
   "outputs": [
    {
     "data": {
      "text/plain": [
       "149"
      ]
     },
     "execution_count": 17,
     "metadata": {},
     "output_type": "execute_result"
    }
   ],
   "source": [
    "len(train_x[0][0])"
   ]
  },
  {
   "cell_type": "code",
   "execution_count": 18,
   "metadata": {},
   "outputs": [
    {
     "name": "stdout",
     "output_type": "stream",
     "text": [
      "('test:', 2179)\n",
      "('train:', 8356)\n"
     ]
    }
   ],
   "source": [
    "def y_label(data,label,win_size,wafer_num):\n",
    "    n_label = []\n",
    "    for i in wafer_num:\n",
    "        n_label.append(np.repeat(label[i],each_len(data,win_size)[i]).astype('int'))\n",
    "    return np.array(unlist(n_label))\n",
    "\n",
    "train_y = y_label(train_sensor_val,train_label,149,range(0,len(train_sensor_val[0])))\n",
    "test_y = y_label(test_sensor_val,test_label,149,range(0,len(test_sensor_val[0])))\n",
    "print(\"test:\",len(test_y))\n",
    "print(\"train:\",len(train_y))"
   ]
  },
  {
   "cell_type": "code",
   "execution_count": null,
   "metadata": {
    "collapsed": true
   },
   "outputs": [],
   "source": []
  }
 ],
 "metadata": {
  "kernelspec": {
   "display_name": "Python 2",
   "language": "python",
   "name": "python2"
  },
  "language_info": {
   "codemirror_mode": {
    "name": "ipython",
    "version": 2
   },
   "file_extension": ".py",
   "mimetype": "text/x-python",
   "name": "python",
   "nbconvert_exporter": "python",
   "pygments_lexer": "ipython2",
   "version": "2.7.14"
  }
 },
 "nbformat": 4,
 "nbformat_minor": 1
}
